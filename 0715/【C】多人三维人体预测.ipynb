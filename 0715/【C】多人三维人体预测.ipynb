{
 "cells": [
  {
   "cell_type": "markdown",
   "id": "20b9ac4d-05ea-46bf-bec7-fe2c5c6f8d59",
   "metadata": {},
   "source": [
    "## 进入mmhuman3d主目录"
   ]
  },
  {
   "cell_type": "code",
   "execution_count": 1,
   "id": "bd39a325-850c-4b7f-a472-ddecb0e0468f",
   "metadata": {},
   "outputs": [],
   "source": [
    "import os\n",
    "os.chdir('mmhuman3d')"
   ]
  },
  {
   "cell_type": "code",
   "execution_count": 3,
   "id": "54004a14-de0d-45bd-a539-e5ad15146feb",
   "metadata": {},
   "outputs": [
    {
     "name": "stdout",
     "output_type": "stream",
     "text": [
      "WARNING: You are using a SMPL model, with only 10 shape coefficients.\n",
      "WARNING: You are using a SMPL model, with only 10 shape coefficients.\n",
      "load checkpoint from http path: https://openmmlab-share.oss-cn-hangzhou.aliyuncs.com/mmhuman3d/models/hmr/resnet50_hmr_pw3d-04f40f58_20211201.pth\n",
      "2022-07-15 22:33:52,105 - mmtrack - INFO - initialize FasterRCNN with init_cfg {'type': 'Pretrained', 'checkpoint': 'https://download.openmmlab.com/mmtracking/mot/faster_rcnn/faster-rcnn_r50_fpn_4e_mot17-half-64ee2ed4.pth'}\n",
      "2022-07-15 22:33:52,106 - mmcv - INFO - load model from: https://download.openmmlab.com/mmtracking/mot/faster_rcnn/faster-rcnn_r50_fpn_4e_mot17-half-64ee2ed4.pth\n",
      "2022-07-15 22:33:52,106 - mmcv - INFO - load checkpoint from http path: https://download.openmmlab.com/mmtracking/mot/faster_rcnn/faster-rcnn_r50_fpn_4e_mot17-half-64ee2ed4.pth\n",
      "2022-07-15 22:33:52,584 - mmtrack - INFO - initialize BaseReID with init_cfg {'type': 'Pretrained', 'checkpoint': 'https://download.openmmlab.com/mmtracking/mot/reid/tracktor_reid_r50_iter25245-a452f51f.pth'}\n",
      "2022-07-15 22:33:52,585 - mmcv - INFO - load model from: https://download.openmmlab.com/mmtracking/mot/reid/tracktor_reid_r50_iter25245-a452f51f.pth\n",
      "2022-07-15 22:33:52,585 - mmcv - INFO - load checkpoint from http path: https://download.openmmlab.com/mmtracking/mot/reid/tracktor_reid_r50_iter25245-a452f51f.pth\n",
      "2022-07-15 22:33:52,793 - mmcv - WARNING - The model and loaded state dict do not match exactly\n",
      "\n",
      "missing keys in source state_dict: head.bn.weight, head.bn.bias, head.bn.running_mean, head.bn.running_var, head.classifier.weight, head.classifier.bias\n",
      "\n",
      "Warning: The model doesn't have classes\n",
      "[>>>>>>>>>>>>>>>>>>>>>>>>>>>>>>>>>] 40/40, 6.0 task/s, elapsed: 7s, ETA:     0s\n",
      "[>>>>>>>>>>>>>>>>>>>>>>>>>>>>>>>>>] 40/40, 7.8 task/s, elapsed: 5s, ETA:     0s\n",
      "Running \"ffmpeg -y -f rawvideo -s 1080x1920 -pix_fmt bgr24 -loglevel error -threads 4 -i - -f image2 -start_number 0 outputs/C_multi_person_demo/images/%06d.png\"\n",
      "verts is absent in HumanData.SUPPORTED_KEYS.\n",
      "Ignore this if you know exactly what you are doing.\n",
      "Otherwise, Call self.set_key_strict(True) to avoid wrong keys.\n",
      "\n",
      "pred_cams is absent in HumanData.SUPPORTED_KEYS.\n",
      "Ignore this if you know exactly what you are doing.\n",
      "Otherwise, Call self.set_key_strict(True) to avoid wrong keys.\n",
      "\n",
      "bboxes_xyxy is absent in HumanData.SUPPORTED_KEYS.\n",
      "Ignore this if you know exactly what you are doing.\n",
      "Otherwise, Call self.set_key_strict(True) to avoid wrong keys.\n",
      "\n",
      "person_id is absent in HumanData.SUPPORTED_KEYS.\n",
      "Ignore this if you know exactly what you are doing.\n",
      "Otherwise, Call self.set_key_strict(True) to avoid wrong keys.\n",
      "\n",
      "frame_id is absent in HumanData.SUPPORTED_KEYS.\n",
      "Ignore this if you know exactly what you are doing.\n",
      "Otherwise, Call self.set_key_strict(True) to avoid wrong keys.\n",
      "\n",
      "WARNING: You are using a SMPL model, with only 10 shape coefficients.\n",
      "/home/featurize/work/MMHuman3D教程/pytorch3d/mmhuman3d/mmhuman3d/mmhuman3d/core/visualization/visualize_smpl.py:326: UserWarning: None transl for multi-person, will all be the default translation.\n",
      "  warnings.warn('None transl for multi-person, will all be the '\n",
      "make dir outputs/C_multi_person_video.mp4_output_temp\n",
      "Make dir outputs/C_multi_person_video.mp4_output_temp\n",
      "Running \"ffmpeg -y -threads 4 -start_number 0 -r 30 -i outputs/C_multi_person_video.mp4_output_temp/%06d.png -frames:v 40 -profile:v baseline -level 3.0 -c:v libx264 -pix_fmt yuv420p -an -v error -loglevel error outputs/C_multi_person_video.mp4\"\n"
     ]
    }
   ],
   "source": [
    "!python demo/estimate_smpl.py \\\n",
    "        configs/hmr/resnet50_hmr_pw3d.py \\\n",
    "        https://openmmlab-share.oss-cn-hangzhou.aliyuncs.com/mmhuman3d/models/hmr/resnet50_hmr_pw3d-04f40f58_20211201.pth \\\n",
    "        --multi_person_demo \\\n",
    "        --tracking_config demo/mmtracking_cfg/deepsort_faster-rcnn_fpn_4e_mot17-private-half.py \\\n",
    "        --input_path  demo/resources/multi_person_demo.mp4 \\\n",
    "        --output outputs/C_multi_person_demo \\\n",
    "        --show_path outputs/C_multi_person_video.mp4 \\\n",
    "        --draw_bbox \\\n",
    "        --smooth_type savgol"
   ]
  },
  {
   "cell_type": "code",
   "execution_count": null,
   "id": "7baff4bd-f7d7-48d3-ab31-c13b170292b8",
   "metadata": {},
   "outputs": [],
   "source": []
  }
 ],
 "metadata": {
  "kernelspec": {
   "display_name": "Python 3 (ipykernel)",
   "language": "python",
   "name": "python3"
  },
  "language_info": {
   "codemirror_mode": {
    "name": "ipython",
    "version": 3
   },
   "file_extension": ".py",
   "mimetype": "text/x-python",
   "name": "python",
   "nbconvert_exporter": "python",
   "pygments_lexer": "ipython3",
   "version": "3.7.10"
  }
 },
 "nbformat": 4,
 "nbformat_minor": 5
}
