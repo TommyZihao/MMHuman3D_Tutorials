{
 "cells": [
  {
   "cell_type": "markdown",
   "id": "b6beb55c-df9b-4e95-b892-7d9733fe7e75",
   "metadata": {},
   "source": [
    "# 安装MMHuman3D环境\n",
    "\n",
    "同济子豪兄 2022-7-15"
   ]
  },
  {
   "cell_type": "markdown",
   "id": "a34dd23f-9f80-4e35-8ecb-a1e84642223a",
   "metadata": {},
   "source": [
    "## 下载安装Pytorch（大约需要两分钟）"
   ]
  },
  {
   "cell_type": "code",
   "execution_count": 13,
   "id": "ebe08c52-e27d-45ec-9292-66603c9873be",
   "metadata": {},
   "outputs": [
    {
     "name": "stdout",
     "output_type": "stream",
     "text": [
      "Looking in indexes: https://pypi.tuna.tsinghua.edu.cn/simple, https://download.pytorch.org/whl/cu113\n",
      "Requirement already satisfied: torch in /environment/miniconda3/lib/python3.7/site-packages (1.10.0+cu113)\n",
      "Requirement already satisfied: torchvision in /environment/miniconda3/lib/python3.7/site-packages (0.11.1+cu113)\n",
      "Requirement already satisfied: torchaudio in /environment/miniconda3/lib/python3.7/site-packages (0.10.0+cu113)\n",
      "Requirement already satisfied: typing-extensions in /environment/miniconda3/lib/python3.7/site-packages (from torch) (4.0.1)\n",
      "Requirement already satisfied: numpy in /environment/miniconda3/lib/python3.7/site-packages (from torchvision) (1.21.4)\n",
      "Requirement already satisfied: pillow!=8.3.0,>=5.3.0 in /environment/miniconda3/lib/python3.7/site-packages (from torchvision) (8.4.0)\n"
     ]
    }
   ],
   "source": [
    "!pip3 install torch torchvision torchaudio --extra-index-url https://download.pytorch.org/whl/cu113"
   ]
  },
  {
   "cell_type": "code",
   "execution_count": 15,
   "id": "2fdea73b-11b7-47c1-81ca-2a24a6277782",
   "metadata": {},
   "outputs": [
    {
     "data": {
      "text/plain": [
       "'1.10.0+cu113'"
      ]
     },
     "execution_count": 15,
     "metadata": {},
     "output_type": "execute_result"
    }
   ],
   "source": [
    "import torch\n",
    "device = torch.device('cuda')\n",
    "torch.__version__"
   ]
  },
  {
   "cell_type": "markdown",
   "id": "0563c454-43de-4fc2-bdd8-0188618856f5",
   "metadata": {},
   "source": [
    "## 安装pytorch3d"
   ]
  },
  {
   "cell_type": "code",
   "execution_count": 1,
   "id": "c5c54103-757a-4f31-a988-cd4a3e3a2a1f",
   "metadata": {},
   "outputs": [
    {
     "name": "stdout",
     "output_type": "stream",
     "text": [
      "Cloning into 'pytorch3d'...\n",
      "remote: Enumerating objects: 10453, done.\u001b[K\n",
      "remote: Counting objects: 100% (1288/1288), done.\u001b[K\n",
      "remote: Compressing objects: 100% (507/507), done.\u001b[K\n",
      "remote: Total 10453 (delta 805), reused 1235 (delta 776), pack-reused 9165\u001b[K\n",
      "Receiving objects: 100% (10453/10453), 43.36 MiB | 9.62 MiB/s, done.\n",
      "Resolving deltas: 100% (7043/7043), done.\n",
      "Updating files: 100% (829/829), done.\n"
     ]
    }
   ],
   "source": [
    "!git clone https://github.com/facebookresearch/pytorch3d.git"
   ]
  },
  {
   "cell_type": "code",
   "execution_count": null,
   "id": "ba49d7a5-0725-4ec3-ac39-b941d5c9e7e1",
   "metadata": {},
   "outputs": [],
   "source": [
    "import os\n",
    "os.chdir('pytorch3d')"
   ]
  },
  {
   "cell_type": "code",
   "execution_count": 3,
   "id": "eda87cc0-1bc1-4afb-9b52-8957277255c7",
   "metadata": {},
   "outputs": [
    {
     "name": "stdout",
     "output_type": "stream",
     "text": [
      "Looking in indexes: https://pypi.tuna.tsinghua.edu.cn/simple\n",
      "Obtaining file:///home/featurize/work/MMHuman3D%E6%95%99%E7%A8%8B/pytorch3d\n",
      "Requirement already satisfied: fvcore in /environment/miniconda3/lib/python3.7/site-packages (from pytorch3d==0.6.2) (0.1.5.post20220512)\n",
      "Requirement already satisfied: iopath in /environment/miniconda3/lib/python3.7/site-packages (from pytorch3d==0.6.2) (0.1.10)\n",
      "Requirement already satisfied: yacs>=0.1.6 in /environment/miniconda3/lib/python3.7/site-packages (from fvcore->pytorch3d==0.6.2) (0.1.8)\n",
      "Requirement already satisfied: tqdm in /environment/miniconda3/lib/python3.7/site-packages (from fvcore->pytorch3d==0.6.2) (4.61.2)\n",
      "Requirement already satisfied: pyyaml>=5.1 in /environment/miniconda3/lib/python3.7/site-packages (from fvcore->pytorch3d==0.6.2) (6.0)\n",
      "Requirement already satisfied: numpy in /environment/miniconda3/lib/python3.7/site-packages (from fvcore->pytorch3d==0.6.2) (1.21.4)\n",
      "Requirement already satisfied: tabulate in /environment/miniconda3/lib/python3.7/site-packages (from fvcore->pytorch3d==0.6.2) (0.8.7)\n",
      "Requirement already satisfied: Pillow in /environment/miniconda3/lib/python3.7/site-packages (from fvcore->pytorch3d==0.6.2) (8.4.0)\n",
      "Requirement already satisfied: termcolor>=1.1 in /environment/miniconda3/lib/python3.7/site-packages (from fvcore->pytorch3d==0.6.2) (1.1.0)\n",
      "Requirement already satisfied: portalocker in /environment/miniconda3/lib/python3.7/site-packages (from iopath->pytorch3d==0.6.2) (2.5.1)\n",
      "Requirement already satisfied: typing-extensions in /environment/miniconda3/lib/python3.7/site-packages (from iopath->pytorch3d==0.6.2) (4.0.1)\n",
      "Installing collected packages: pytorch3d\n",
      "  Attempting uninstall: pytorch3d\n",
      "    Found existing installation: pytorch3d 0.3.0\n",
      "    Uninstalling pytorch3d-0.3.0:\n",
      "      Successfully uninstalled pytorch3d-0.3.0\n",
      "  Running setup.py develop for pytorch3d\n",
      "Successfully installed pytorch3d-0.6.2\n"
     ]
    }
   ],
   "source": [
    "!pip install -e ."
   ]
  },
  {
   "cell_type": "code",
   "execution_count": 43,
   "id": "10b50101-bbcc-4991-9815-7f908de81923",
   "metadata": {},
   "outputs": [],
   "source": [
    "os.chdir('../')"
   ]
  },
  {
   "cell_type": "code",
   "execution_count": 8,
   "id": "846fc144-dda9-4b71-8d03-35fae69f00d8",
   "metadata": {},
   "outputs": [
    {
     "name": "stdout",
     "output_type": "stream",
     "text": [
      "0.6.2\n"
     ]
    }
   ],
   "source": [
    "import pytorch3d\n",
    "print(pytorch3d.__version__)"
   ]
  },
  {
   "cell_type": "code",
   "execution_count": 10,
   "id": "2f12866e-26f8-405a-b55f-e9d16b3ccfbe",
   "metadata": {},
   "outputs": [],
   "source": [
    "from pytorch3d.renderer import cameras\n",
    "from pytorch3d.structures import Meshes\n",
    "from pytorch3d.renderer import MeshRenderer\n",
    "from pytorch3d.transforms import Transform3d"
   ]
  },
  {
   "cell_type": "code",
   "execution_count": 11,
   "id": "97697ba2-ce95-4649-a316-fa2f285ca76f",
   "metadata": {},
   "outputs": [
    {
     "name": "stdout",
     "output_type": "stream",
     "text": [
      "tensor([[[30.0000,  0.0000,  0.0000],\n",
      "         [29.9803,  0.0000,  0.6279],\n",
      "         [29.9211,  0.0000,  1.2533],\n",
      "         ...,\n",
      "         [29.7640, -1.8726, -1.8738],\n",
      "         [29.8621, -1.8788, -1.2533],\n",
      "         [29.9211, -1.8825, -0.6279]]], device='cuda:0')\n"
     ]
    }
   ],
   "source": [
    "from pytorch3d.utils import torus\n",
    "Torus = torus(r=10, R=20, sides=100, rings=100, device=device)\n",
    "print(Torus.verts_padded())"
   ]
  },
  {
   "cell_type": "markdown",
   "id": "5fe8405f-340a-4dbb-8ecf-a27f7e27cc7e",
   "metadata": {},
   "source": [
    "## 安装pytorch3d其它依赖工具包"
   ]
  },
  {
   "cell_type": "code",
   "execution_count": 31,
   "id": "65d8be0b-9d07-4115-a574-92c49bd388ca",
   "metadata": {},
   "outputs": [
    {
     "name": "stdout",
     "output_type": "stream",
     "text": [
      "Looking in indexes: https://pypi.tuna.tsinghua.edu.cn/simple\n",
      "Requirement already satisfied: fvcore in /environment/miniconda3/lib/python3.7/site-packages (0.1.5.post20220512)\n",
      "Requirement already satisfied: iopath in /environment/miniconda3/lib/python3.7/site-packages (0.1.10)\n",
      "Requirement already satisfied: tabulate in /environment/miniconda3/lib/python3.7/site-packages (from fvcore) (0.8.7)\n",
      "Requirement already satisfied: numpy in /environment/miniconda3/lib/python3.7/site-packages (from fvcore) (1.21.4)\n",
      "Requirement already satisfied: termcolor>=1.1 in /environment/miniconda3/lib/python3.7/site-packages (from fvcore) (1.1.0)\n",
      "Requirement already satisfied: yacs>=0.1.6 in /environment/miniconda3/lib/python3.7/site-packages (from fvcore) (0.1.8)\n",
      "Requirement already satisfied: pyyaml>=5.1 in /environment/miniconda3/lib/python3.7/site-packages (from fvcore) (6.0)\n",
      "Requirement already satisfied: tqdm in /environment/miniconda3/lib/python3.7/site-packages (from fvcore) (4.61.2)\n",
      "Requirement already satisfied: Pillow in /environment/miniconda3/lib/python3.7/site-packages (from fvcore) (8.4.0)\n",
      "Requirement already satisfied: portalocker in /environment/miniconda3/lib/python3.7/site-packages (from iopath) (2.5.1)\n",
      "Requirement already satisfied: typing-extensions in /environment/miniconda3/lib/python3.7/site-packages (from iopath) (4.0.1)\n"
     ]
    }
   ],
   "source": [
    "!pip install fvcore iopath -i https://pypi.tuna.tsinghua.edu.cn/simple"
   ]
  },
  {
   "cell_type": "code",
   "execution_count": 40,
   "id": "4d30d3c5-2779-4a0d-ad0d-4dc0dffbd91b",
   "metadata": {},
   "outputs": [
    {
     "name": "stdout",
     "output_type": "stream",
     "text": [
      "Collecting package metadata (current_repodata.json): done\n",
      "Solving environment: done\n",
      "\n",
      "\n",
      "==> WARNING: A newer version of conda exists. <==\n",
      "  current version: 4.10.3\n",
      "  latest version: 4.13.0\n",
      "\n",
      "Please update conda by running\n",
      "\n",
      "    $ conda update -n base -c defaults conda\n",
      "\n",
      "\n",
      "\n",
      "## Package Plan ##\n",
      "\n",
      "  environment location: /environment/miniconda3\n",
      "\n",
      "  added / updated specs:\n",
      "    - fvcore\n",
      "    - iopath\n",
      "\n",
      "\n",
      "The following packages will be downloaded:\n",
      "\n",
      "    package                    |            build\n",
      "    ---------------------------|-----------------\n",
      "    fvcore-0.1.5.post20210915  |             py37          89 KB  fvcore\n",
      "    iopath-0.1.9               |             py37          41 KB  iopath\n",
      "    ------------------------------------------------------------\n",
      "                                           Total:         130 KB\n",
      "\n",
      "The following NEW packages will be INSTALLED:\n",
      "\n",
      "  freetype           conda-forge/linux-64::freetype-2.10.4-h0708190_1\n",
      "  fvcore             fvcore/linux-64::fvcore-0.1.5.post20210915-py37\n",
      "  iopath             iopath/linux-64::iopath-0.1.9-py37\n",
      "  jpeg               pkgs/main/linux-64::jpeg-9e-h7f8727e_0\n",
      "  libpng             conda-forge/linux-64::libpng-1.6.37-h21135ba_2\n",
      "  libtiff            conda-forge/linux-64::libtiff-4.0.10-hc3755c2_1005\n",
      "  lz4-c              conda-forge/linux-64::lz4-c-1.9.3-h9c3ff4c_1\n",
      "  olefile            conda-forge/noarch::olefile-0.46-pyh9f0ad1d_1\n",
      "  pillow             conda-forge/linux-64::pillow-6.2.1-py37h6b7be26_0\n",
      "  portalocker        conda-forge/linux-64::portalocker-2.5.1-py37h89c1867_0\n",
      "  python_abi         conda-forge/linux-64::python_abi-3.7-2_cp37m\n",
      "  pyyaml             conda-forge/linux-64::pyyaml-5.4.1-py37h5e8e339_0\n",
      "  tabulate           conda-forge/noarch::tabulate-0.8.10-pyhd8ed1ab_0\n",
      "  termcolor          conda-forge/noarch::termcolor-1.1.0-pyhd8ed1ab_3\n",
      "  yacs               conda-forge/noarch::yacs-0.1.8-pyhd8ed1ab_0\n",
      "  zstd               conda-forge/linux-64::zstd-1.4.9-ha95c52a_0\n",
      "\n",
      "The following packages will be UPDATED:\n",
      "\n",
      "  ca-certificates    pkgs/main::ca-certificates-2021.7.5-h~ --> conda-forge::ca-certificates-2022.6.15-ha878542_0\n",
      "  certifi            pkgs/main::certifi-2021.5.30-py37h06a~ --> conda-forge::certifi-2022.6.15-py37h89c1867_0\n",
      "  conda              pkgs/main::conda-4.10.3-py37h06a4308_0 --> conda-forge::conda-4.13.0-py37h89c1867_1\n",
      "  openssl                                 1.1.1k-h27cfd23_0 --> 1.1.1q-h7f8727e_0\n",
      "\n",
      "\n",
      "\n",
      "Downloading and Extracting Packages\n",
      "iopath-0.1.9         | 41 KB     | ##################################### | 100% \n",
      "fvcore-0.1.5.post202 | 89 KB     | ##################################### | 100% \n",
      "Preparing transaction: done\n",
      "Verifying transaction: done\n",
      "Executing transaction: done\n"
     ]
    }
   ],
   "source": [
    "!conda install -c fvcore -c iopath -c conda-forge fvcore iopath -y"
   ]
  },
  {
   "cell_type": "markdown",
   "id": "84325d02-972b-4742-a83c-474dbe4d2565",
   "metadata": {},
   "source": [
    "## 安装ffmpeg"
   ]
  },
  {
   "cell_type": "code",
   "execution_count": 74,
   "id": "9cdf1907-920c-4003-a0c8-4a58593d9575",
   "metadata": {},
   "outputs": [
    {
     "name": "stdout",
     "output_type": "stream",
     "text": [
      "Collecting package metadata (current_repodata.json): done\n",
      "Solving environment: | \n",
      "Warning: 8 possible package resolutions (only showing differing packages):\n",
      "  - conda-forge/linux-64::ca-certificates-2022.6.15-ha878542_0, conda-forge/linux-64::certifi-2022.6.15-py37h89c1867_0, conda-forge/linux-64::conda-4.13.0-py37h89c1867_1\n",
      "  - conda-forge/linux-64::ca-certificates-2022.6.15-ha878542_0, conda-forge/linux-64::certifi-2022.6.15-py37h89c1867_0, https://mirrors.tuna.tsinghua.edu.cn/anaconda/cloud/conda-forge/linux-64::conda-4.13.0-py37h89c1867_1\n",
      "  - conda-forge/linux-64::ca-certificates-2022.6.15-ha878542_0, conda-forge/linux-64::conda-4.13.0-py37h89c1867_1, https://mirrors.tuna.tsinghua.edu.cn/anaconda/cloud/conda-forge/linux-64::certifi-2022.6.15-py37h89c1867_0\n",
      "  - conda-forge/linux-64::ca-certificates-2022.6.15-ha878542_0, https://mirrors.tuna.tsinghua.edu.cn/anaconda/cloud/conda-forge/linux-64::certifi-2022.6.15-py37h89c1867_0, https://mirrors.tuna.tsinghua.edu.cn/anaconda/cloud/conda-forge/linux-64::conda-4.13.0-py37h89c1867_1\n",
      "  - conda-forge/linux-64::conda-4.13.0-py37h89c1867_1, https://mirrors.tuna.tsinghua.edu.cn/anaconda/cloud/conda-forge/linux-64::ca-certificates-2022.6.15-ha878542_0, https://mirrors.tuna.tsinghua.edu.cn/anaconda/cloud/conda-forge/linux-64::certifi-2022.6.15-py37h89c1867_0\n",
      "  - https://mirrors.tuna.tsinghua.edu.cn/anaconda/cloud/conda-forge/linux-64::ca-certificates-2022.6.15-ha878542_0, https://mirrors.tuna.tsinghua.edu.cn/anaconda/cloud/conda-forge/linux-64::certifi-2022.6.15-py37h89c1867_0, https://mirrors.tuna.tsinghua.edu.cn/anaconda/cloud/conda-forge/linux-64::conda-4.13.0-py37h89c1867_1\n",
      "  - conda-forge/linux-64::certifi-2022.6.15-py37h89c1867_0, conda-forge/linux-64::conda-4.13.0-py37h89c1867_1, https://mirrors.tuna.tsinghua.edu.cn/anaconda/cloud/conda-forge/linux-64::ca-certificates-2022.6.15-ha878542_0\n",
      "  - conda-forge/linux-64::certifi-2022.6.15-py37h89c1867_0, https://mirrors.tuna.tsinghua.edu.cn/anaconda/cloud/conda-forge/linux-64::ca-certificates-2022.6.15-ha878542_0, https://mirrors.tuna.tsinghua.edu.cn/anaconda/cloud/conda-forge/linux-64::conda-4.13.0-py37h89c1867done\n",
      "\n",
      "## Package Plan ##\n",
      "\n",
      "  environment location: /environment/miniconda3\n",
      "\n",
      "  added / updated specs:\n",
      "    - ffmpeg\n",
      "\n",
      "\n",
      "The following packages will be downloaded:\n",
      "\n",
      "    package                    |            build\n",
      "    ---------------------------|-----------------\n",
      "    bzip2-1.0.8                |       h7f98852_4         484 KB  https://mirrors.tuna.tsinghua.edu.cn/anaconda/cloud/conda-forge\n",
      "    ffmpeg-4.3.2               |       hca11adc_0        92.0 MB  https://mirrors.tuna.tsinghua.edu.cn/anaconda/cloud/conda-forge\n",
      "    gmp-6.2.1                  |       h58526e2_0         806 KB  https://mirrors.tuna.tsinghua.edu.cn/anaconda/cloud/conda-forge\n",
      "    gnutls-3.6.13              |       h85f3911_1         2.0 MB  https://mirrors.tuna.tsinghua.edu.cn/anaconda/cloud/conda-forge\n",
      "    lame-3.100                 |    h7f98852_1001         496 KB  https://mirrors.tuna.tsinghua.edu.cn/anaconda/cloud/conda-forge\n",
      "    nettle-3.6                 |       he412f7d_0         6.5 MB  https://mirrors.tuna.tsinghua.edu.cn/anaconda/cloud/conda-forge\n",
      "    openh264-2.1.1             |       h780b84a_0         1.5 MB  https://mirrors.tuna.tsinghua.edu.cn/anaconda/cloud/conda-forge\n",
      "    x264-1!161.3030            |       h7f98852_1         2.5 MB  https://mirrors.tuna.tsinghua.edu.cn/anaconda/cloud/conda-forge\n",
      "    ------------------------------------------------------------\n",
      "                                           Total:       106.2 MB\n",
      "\n",
      "The following NEW packages will be INSTALLED:\n",
      "\n",
      "  bzip2              anaconda/cloud/conda-forge/linux-64::bzip2-1.0.8-h7f98852_4\n",
      "  ffmpeg             anaconda/cloud/conda-forge/linux-64::ffmpeg-4.3.2-hca11adc_0\n",
      "  gmp                anaconda/cloud/conda-forge/linux-64::gmp-6.2.1-h58526e2_0\n",
      "  gnutls             anaconda/cloud/conda-forge/linux-64::gnutls-3.6.13-h85f3911_1\n",
      "  lame               anaconda/cloud/conda-forge/linux-64::lame-3.100-h7f98852_1001\n",
      "  nettle             anaconda/cloud/conda-forge/linux-64::nettle-3.6-he412f7d_0\n",
      "  openh264           anaconda/cloud/conda-forge/linux-64::openh264-2.1.1-h780b84a_0\n",
      "  x264               anaconda/cloud/conda-forge/linux-64::x264-1!161.3030-h7f98852_1\n",
      "\n",
      "\n",
      "\n",
      "Downloading and Extracting Packages\n",
      "openh264-2.1.1       | 1.5 MB    | ##################################### | 100% \n",
      "ffmpeg-4.3.2         | 92.0 MB   | ##################################### | 100% \n",
      "bzip2-1.0.8          | 484 KB    | ##################################### | 100% \n",
      "lame-3.100           | 496 KB    | ##################################### | 100% \n",
      "gmp-6.2.1            | 806 KB    | ##################################### | 100% \n",
      "nettle-3.6           | 6.5 MB    | ##################################### | 100% \n",
      "x264-1!161.3030      | 2.5 MB    | ##################################### | 100% \n",
      "gnutls-3.6.13        | 2.0 MB    | ##################################### | 100% \n",
      "Preparing transaction: done\n",
      "Verifying transaction: done\n",
      "Executing transaction: done\n"
     ]
    }
   ],
   "source": [
    "!conda install ffmpeg -y"
   ]
  },
  {
   "cell_type": "markdown",
   "id": "e30e96d1-e843-40cf-86b5-011c3338f618",
   "metadata": {},
   "source": [
    "## 下载安装 mmcv-full（大约需要两分钟）"
   ]
  },
  {
   "cell_type": "code",
   "execution_count": 34,
   "id": "305c8a1b-5568-4615-a00f-624f86e61aec",
   "metadata": {},
   "outputs": [
    {
     "name": "stdout",
     "output_type": "stream",
     "text": [
      "Looking in indexes: https://pypi.tuna.tsinghua.edu.cn/simple\n",
      "Looking in links: https://download.openmmlab.com/mmcv/dist/cu113/torch1.10.0/index.html\n",
      "Collecting mmcv-full\n",
      "  Downloading https://download.openmmlab.com/mmcv/dist/cu113/torch1.10.0/mmcv_full-1.6.0-cp37-cp37m-manylinux1_x86_64.whl (53.5 MB)\n",
      "\u001b[K     |████████████████████████████████| 53.5 MB 87.5 MB/s eta 0:00:01\n",
      "\u001b[?25hCollecting addict\n",
      "  Downloading https://pypi.tuna.tsinghua.edu.cn/packages/6a/00/b08f23b7d7e1e14ce01419a467b583edbb93c6cdb8654e54a9cc579cd61f/addict-2.4.0-py3-none-any.whl (3.8 kB)\n",
      "Requirement already satisfied: Pillow in /environment/miniconda3/lib/python3.7/site-packages (from mmcv-full) (8.4.0)\n",
      "Requirement already satisfied: packaging in /environment/miniconda3/lib/python3.7/site-packages (from mmcv-full) (21.3)\n",
      "Requirement already satisfied: pyyaml in /environment/miniconda3/lib/python3.7/site-packages (from mmcv-full) (6.0)\n",
      "Requirement already satisfied: yapf in /environment/miniconda3/lib/python3.7/site-packages (from mmcv-full) (0.31.0)\n",
      "Requirement already satisfied: numpy in /environment/miniconda3/lib/python3.7/site-packages (from mmcv-full) (1.21.4)\n",
      "Requirement already satisfied: opencv-python>=3 in /environment/miniconda3/lib/python3.7/site-packages (from mmcv-full) (4.5.4.60)\n",
      "Requirement already satisfied: pyparsing!=3.0.5,>=2.0.2 in /environment/miniconda3/lib/python3.7/site-packages (from packaging->mmcv-full) (3.0.6)\n",
      "Installing collected packages: addict, mmcv-full\n",
      "Successfully installed addict-2.4.0 mmcv-full-1.6.0\n"
     ]
    }
   ],
   "source": [
    "# 安装mmcv -full\n",
    "!pip install mmcv-full -f https://download.openmmlab.com/mmcv/dist/cu113/torch1.10.0/index.html"
   ]
  },
  {
   "cell_type": "markdown",
   "id": "f151df56-2e26-4e6c-9ca9-7548a332a38e",
   "metadata": {},
   "source": [
    "## 安装MMDetection、MMPose、MMTracking"
   ]
  },
  {
   "cell_type": "code",
   "execution_count": 12,
   "id": "920f4ce2-aaf9-4e0c-aec4-336093ef6074",
   "metadata": {},
   "outputs": [
    {
     "name": "stdout",
     "output_type": "stream",
     "text": [
      "Looking in indexes: https://pypi.tuna.tsinghua.edu.cn/simple\n",
      "Collecting mmdet\n",
      "  Downloading https://pypi.tuna.tsinghua.edu.cn/packages/b0/11/52ad3563ccb589269a559b8b52b4ce0c6ee5e701a0483baa267f25d88416/mmdet-2.25.0-py3-none-any.whl (1.4 MB)\n",
      "\u001b[K     |████████████████████████████████| 1.4 MB 81.0 MB/s eta 0:00:01\n",
      "\u001b[?25hCollecting mmpose\n",
      "  Downloading https://pypi.tuna.tsinghua.edu.cn/packages/a7/96/67ca3a8e05f745512e48e219402e2d1aac78903c99fdb0c40c6cd646b2ba/mmpose-0.28.0-py2.py3-none-any.whl (1.6 MB)\n",
      "\u001b[K     |████████████████████████████████| 1.6 MB 97.1 MB/s eta 0:00:01\n",
      "\u001b[?25hCollecting mmtrack\n",
      "  Downloading https://pypi.tuna.tsinghua.edu.cn/packages/a2/b1/8bfb88fa5b54085fb231e5989035851deb4f654d89a541c3eab8dc9cadf4/mmtrack-0.13.0-py3-none-any.whl (377 kB)\n",
      "\u001b[K     |████████████████████████████████| 377 kB 86.5 MB/s eta 0:00:01\n",
      "\u001b[?25hRequirement already satisfied: matplotlib in /environment/miniconda3/lib/python3.7/site-packages (from mmdet) (3.5.0)\n",
      "Requirement already satisfied: six in /environment/miniconda3/lib/python3.7/site-packages (from mmdet) (1.16.0)\n",
      "Requirement already satisfied: numpy in /environment/miniconda3/lib/python3.7/site-packages (from mmdet) (1.21.4)\n",
      "Collecting terminaltables\n",
      "  Downloading https://pypi.tuna.tsinghua.edu.cn/packages/c4/fb/ea621e0a19733e01fe4005d46087d383693c0f4a8f824b47d8d4122c87e0/terminaltables-3.1.10-py2.py3-none-any.whl (15 kB)\n",
      "Collecting pycocotools\n",
      "  Downloading https://pypi.tuna.tsinghua.edu.cn/packages/75/5c/ac61ea715d7a89ecc31c090753bde28810238225ca8b71778dfe3e6a68bc/pycocotools-2.0.4.tar.gz (106 kB)\n",
      "\u001b[K     |████████████████████████████████| 106 kB 99.8 MB/s eta 0:00:01\n",
      "\u001b[?25h  Installing build dependencies ... \u001b[?25ldone\n",
      "\u001b[?25h  Getting requirements to build wheel ... \u001b[?25ldone\n",
      "\u001b[?25h    Preparing wheel metadata ... \u001b[?25ldone\n",
      "\u001b[?25hCollecting chumpy\n",
      "  Downloading https://pypi.tuna.tsinghua.edu.cn/packages/01/f7/865755c8bdb837841938de622e6c8b5cb6b1c933bde3bd3332f0cd4574f1/chumpy-0.70.tar.gz (50 kB)\n",
      "\u001b[K     |████████████████████████████████| 50 kB 43.8 MB/s eta 0:00:01\n",
      "\u001b[?25hRequirement already satisfied: scipy in /environment/miniconda3/lib/python3.7/site-packages (from mmpose) (1.7.3)\n",
      "Collecting json-tricks\n",
      "  Downloading https://pypi.tuna.tsinghua.edu.cn/packages/41/ab/f778a61e3195e656da5a6b9a5392d52b5ed4447fcfbb6413bf1077e60fd1/json_tricks-3.15.5-py2.py3-none-any.whl (26 kB)\n",
      "Requirement already satisfied: opencv-python in /environment/miniconda3/lib/python3.7/site-packages (from mmpose) (4.5.4.60)\n",
      "Collecting munkres\n",
      "  Downloading https://pypi.tuna.tsinghua.edu.cn/packages/90/ab/0301c945a704218bc9435f0e3c88884f6b19ef234d8899fb47ce1ccfd0c9/munkres-1.1.4-py2.py3-none-any.whl (7.0 kB)\n",
      "Requirement already satisfied: pillow in /environment/miniconda3/lib/python3.7/site-packages (from mmpose) (8.4.0)\n",
      "Requirement already satisfied: torchvision in /environment/miniconda3/lib/python3.7/site-packages (from mmpose) (0.11.1+cu113)\n",
      "Collecting xtcocotools>=1.12\n",
      "  Downloading https://pypi.tuna.tsinghua.edu.cn/packages/ce/58/952ff2cc4d923d985c10a1f4c322bbd283b354ba68633a3242881445d4a3/xtcocotools-1.12-cp37-cp37m-manylinux1_x86_64.whl (276 kB)\n",
      "\u001b[K     |████████████████████████████████| 276 kB 57.4 MB/s eta 0:00:01\n",
      "\u001b[?25hRequirement already satisfied: setuptools>=18.0 in /environment/miniconda3/lib/python3.7/site-packages (from xtcocotools>=1.12->mmpose) (52.0.0.post20210125)\n",
      "Collecting cython>=0.27.3\n",
      "  Downloading https://pypi.tuna.tsinghua.edu.cn/packages/db/de/5e1a3f20487b6ae400f1b40a5a056be37da62239488d92fa29318f9a8755/Cython-0.29.30-cp37-cp37m-manylinux_2_17_x86_64.manylinux2014_x86_64.manylinux_2_24_x86_64.whl (1.9 MB)\n",
      "\u001b[K     |████████████████████████████████| 1.9 MB 76.7 MB/s eta 0:00:01\n",
      "\u001b[?25hRequirement already satisfied: kiwisolver>=1.0.1 in /environment/miniconda3/lib/python3.7/site-packages (from matplotlib->mmdet) (1.3.2)\n",
      "Requirement already satisfied: setuptools-scm>=4 in /environment/miniconda3/lib/python3.7/site-packages (from matplotlib->mmdet) (6.3.2)\n",
      "Requirement already satisfied: cycler>=0.10 in /environment/miniconda3/lib/python3.7/site-packages (from matplotlib->mmdet) (0.11.0)\n",
      "Requirement already satisfied: packaging>=20.0 in /environment/miniconda3/lib/python3.7/site-packages (from matplotlib->mmdet) (21.3)\n",
      "Requirement already satisfied: fonttools>=4.22.0 in /environment/miniconda3/lib/python3.7/site-packages (from matplotlib->mmdet) (4.28.3)\n",
      "Requirement already satisfied: python-dateutil>=2.7 in /environment/miniconda3/lib/python3.7/site-packages (from matplotlib->mmdet) (2.8.2)\n",
      "Requirement already satisfied: pyparsing>=2.2.1 in /environment/miniconda3/lib/python3.7/site-packages (from matplotlib->mmdet) (3.0.6)\n",
      "Requirement already satisfied: tomli>=1.0.0 in /environment/miniconda3/lib/python3.7/site-packages (from setuptools-scm>=4->matplotlib->mmdet) (1.2.2)\n",
      "Collecting attributee==0.1.5\n",
      "  Downloading https://pypi.tuna.tsinghua.edu.cn/packages/b6/c2/50123286524e8dfee4b5502e349bae96c42185592479c9dc31c40f9f8259/attributee-0.1.5.tar.gz (11 kB)\n",
      "Collecting motmetrics\n",
      "  Downloading https://pypi.tuna.tsinghua.edu.cn/packages/45/41/b019fe934eb811b9aba9b335f852305b804b9c66f098d7e35c2bdb09d1c8/motmetrics-1.2.5-py3-none-any.whl (161 kB)\n",
      "\u001b[K     |████████████████████████████████| 161 kB 72.2 MB/s eta 0:00:01\n",
      "\u001b[?25hCollecting pycocotools\n",
      "  Downloading https://pypi.tuna.tsinghua.edu.cn/packages/de/df/056875d697c45182ed6d2ae21f62015896fdb841906fe48e7268e791c467/pycocotools-2.0.2.tar.gz (23 kB)\n",
      "Collecting dotty-dict\n",
      "  Downloading https://pypi.tuna.tsinghua.edu.cn/packages/1a/91/e0d457ee03ec33d79ee2cd8d212debb1bc21dfb99728ae35efdb5832dc22/dotty_dict-1.3.1-py3-none-any.whl (7.0 kB)\n",
      "Requirement already satisfied: pandas<=1.3.5 in /environment/miniconda3/lib/python3.7/site-packages (from mmtrack) (1.3.4)\n",
      "Requirement already satisfied: tqdm in /environment/miniconda3/lib/python3.7/site-packages (from mmtrack) (4.61.2)\n",
      "Collecting mmcls>=0.16.0\n",
      "  Downloading https://pypi.tuna.tsinghua.edu.cn/packages/16/2d/c50efb993f6f14f13631a10a72f72135fd47ae4173c60a8c120095d1bc7e/mmcls-0.23.1-py2.py3-none-any.whl (577 kB)\n",
      "\u001b[K     |████████████████████████████████| 577 kB 72.6 MB/s eta 0:00:01\n",
      "\u001b[?25hCollecting lap\n",
      "  Downloading https://pypi.tuna.tsinghua.edu.cn/packages/bf/64/d9fb6a75b15e783952b2fec6970f033462e67db32dc43dfbb404c14e91c2/lap-0.4.0.tar.gz (1.5 MB)\n",
      "\u001b[K     |████████████████████████████████| 1.5 MB 70.1 MB/s eta 0:00:01\n",
      "\u001b[?25hCollecting seaborn\n",
      "  Downloading https://pypi.tuna.tsinghua.edu.cn/packages/10/5b/0479d7d845b5ba410ca702ffcd7f2cd95a14a4dfff1fde2637802b258b9b/seaborn-0.11.2-py3-none-any.whl (292 kB)\n",
      "\u001b[K     |████████████████████████████████| 292 kB 61.0 MB/s eta 0:00:01\n",
      "\u001b[?25hRequirement already satisfied: pytz>=2017.3 in /environment/miniconda3/lib/python3.7/site-packages (from pandas<=1.3.5->mmtrack) (2021.3)\n",
      "Collecting xmltodict>=0.12.0\n",
      "  Downloading https://pypi.tuna.tsinghua.edu.cn/packages/94/db/fd0326e331726f07ff7f40675cd86aa804bfd2e5016c727fa761c934990e/xmltodict-0.13.0-py2.py3-none-any.whl (10.0 kB)\n",
      "Requirement already satisfied: torch==1.10.0 in /environment/miniconda3/lib/python3.7/site-packages (from torchvision->mmpose) (1.10.0+cu113)\n",
      "Requirement already satisfied: typing-extensions in /environment/miniconda3/lib/python3.7/site-packages (from torch==1.10.0->torchvision->mmpose) (4.0.1)\n",
      "Building wheels for collected packages: attributee, pycocotools, chumpy, lap\n",
      "  Building wheel for attributee (setup.py) ... \u001b[?25ldone\n",
      "\u001b[?25h  Created wheel for attributee: filename=attributee-0.1.5-py3-none-any.whl size=12067 sha256=c71e2a9411eb8089d9988cd45d86ef83b85b84a561184b897d226c0c3e18cfa8\n",
      "  Stored in directory: /home/featurize/.cache/pip/wheels/f2/fb/c3/8cde21929efecfc7bea5ee163a51f20ff008b13332392011b3\n",
      "  Building wheel for pycocotools (setup.py) ... \u001b[?25ldone\n",
      "\u001b[?25h  Created wheel for pycocotools: filename=pycocotools-2.0.2-cp37-cp37m-linux_x86_64.whl size=371402 sha256=b194c4bbe4d4a1155252698a5da4d4cf0b7f8d6b789391d99865f5aa39a9611b\n",
      "  Stored in directory: /home/featurize/.cache/pip/wheels/f0/4e/80/5c67caf3bcf78ccd860093035add754e4d05e2a54b06dd2cb9\n",
      "  Building wheel for chumpy (setup.py) ... \u001b[?25ldone\n",
      "\u001b[?25h  Created wheel for chumpy: filename=chumpy-0.70-py3-none-any.whl size=58285 sha256=019182ebf6db68b90e5d3e87e7721116b7ceba434b574ffc00822852a870d07d\n",
      "  Stored in directory: /home/featurize/.cache/pip/wheels/2f/ff/a6/ddb75bc3aa8fa8ba036634f428f414ed87f966d7e1ad33c514\n",
      "  Building wheel for lap (setup.py) ... \u001b[?25ldone\n",
      "\u001b[?25h  Created wheel for lap: filename=lap-0.4.0-cp37-cp37m-linux_x86_64.whl size=1655047 sha256=6935c40d49cbdf3e551a6345d1cc32ebf815f96d664ad7c48698130d099eb410\n",
      "  Stored in directory: /home/featurize/.cache/pip/wheels/5c/d0/d2/e331d17a999666b1e2eb99743cfa1742629f9d26c55c657001\n",
      "Successfully built attributee pycocotools chumpy lap\n",
      "Installing collected packages: xmltodict, cython, xtcocotools, terminaltables, seaborn, pycocotools, munkres, motmetrics, mmcls, lap, json-tricks, dotty-dict, chumpy, attributee, mmtrack, mmpose, mmdet\n",
      "Successfully installed attributee-0.1.5 chumpy-0.70 cython-0.29.30 dotty-dict-1.3.1 json-tricks-3.15.5 lap-0.4.0 mmcls-0.23.1 mmdet-2.25.0 mmpose-0.28.0 mmtrack-0.13.0 motmetrics-1.2.5 munkres-1.1.4 pycocotools-2.0.2 seaborn-0.11.2 terminaltables-3.1.10 xmltodict-0.13.0 xtcocotools-1.12\n"
     ]
    }
   ],
   "source": [
    "!pip install mmdet mmpose mmtrack"
   ]
  },
  {
   "cell_type": "markdown",
   "id": "4500e988-d096-4d7f-b42b-6caa67a85734",
   "metadata": {},
   "source": [
    "## 安装MMHuman3D"
   ]
  },
  {
   "cell_type": "code",
   "execution_count": 22,
   "id": "be9d6bcc-a9b9-4aa7-8c36-5325e79630d2",
   "metadata": {},
   "outputs": [],
   "source": [
    "# 删掉原有的 mmhuman3d 文件夹（如有）\n",
    "!rm -rf mmhuman3d"
   ]
  },
  {
   "cell_type": "code",
   "execution_count": 23,
   "id": "a86cd37a-386f-49a7-916f-e1136cca8fc3",
   "metadata": {},
   "outputs": [
    {
     "name": "stdout",
     "output_type": "stream",
     "text": [
      "Cloning into 'mmhuman3d'...\n",
      "remote: Enumerating objects: 6103, done.\u001b[K\n",
      "remote: Counting objects: 100% (238/238), done.\u001b[K\n",
      "remote: Compressing objects: 100% (115/115), done.\u001b[K\n",
      "remote: Total 6103 (delta 133), reused 219 (delta 122), pack-reused 5865\u001b[K\n",
      "Receiving objects: 100% (6103/6103), 3.19 MiB | 9.39 MiB/s, done.\n",
      "Resolving deltas: 100% (4190/4190), done.\n"
     ]
    }
   ],
   "source": [
    "!git clone https://github.com/open-mmlab/mmhuman3d.git"
   ]
  },
  {
   "cell_type": "code",
   "execution_count": 50,
   "id": "2f4448e2-b602-47cf-b430-b6c2b7becfa2",
   "metadata": {},
   "outputs": [],
   "source": [
    "import os\n",
    "os.chdir('mmhuman3d')"
   ]
  },
  {
   "cell_type": "code",
   "execution_count": 25,
   "id": "38a5d668-2a80-4f39-9453-c5d2a04a36f5",
   "metadata": {},
   "outputs": [
    {
     "name": "stdout",
     "output_type": "stream",
     "text": [
      "Using pip 21.1.3 from /environment/miniconda3/lib/python3.7/site-packages/pip (python 3.7)\n",
      "Non-user install because site-packages writeable\n",
      "Created temporary directory: /tmp/pip-ephem-wheel-cache-j8fpb5tv\n",
      "Created temporary directory: /tmp/pip-req-tracker-0pi54z4q\n",
      "Initialized build tracking at /tmp/pip-req-tracker-0pi54z4q\n",
      "Created build tracker: /tmp/pip-req-tracker-0pi54z4q\n",
      "Entered build tracker: /tmp/pip-req-tracker-0pi54z4q\n",
      "Created temporary directory: /tmp/pip-install-82hy8ixj\n",
      "Looking in indexes: https://pypi.tuna.tsinghua.edu.cn/simple\n",
      "Obtaining file:///home/featurize/work/MMHuman3D%E6%95%99%E7%A8%8B/pytorch3d/mmhuman3d/mmhuman3d\n",
      "  Added file:///home/featurize/work/MMHuman3D%E6%95%99%E7%A8%8B/pytorch3d/mmhuman3d/mmhuman3d to build tracker '/tmp/pip-req-tracker-0pi54z4q'\n",
      "    Running setup.py (path:/home/featurize/work/MMHuman3D教程/pytorch3d/mmhuman3d/mmhuman3d/setup.py) egg_info for package from file:///home/featurize/work/MMHuman3D%E6%95%99%E7%A8%8B/pytorch3d/mmhuman3d/mmhuman3d\n",
      "    Created temporary directory: /tmp/pip-pip-egg-info-efq_0q0n\n",
      "    Running command python setup.py egg_info\n",
      "    running egg_info\n",
      "    creating /tmp/pip-pip-egg-info-efq_0q0n/mmhuman3d.egg-info\n",
      "    writing /tmp/pip-pip-egg-info-efq_0q0n/mmhuman3d.egg-info/PKG-INFO\n",
      "    writing dependency_links to /tmp/pip-pip-egg-info-efq_0q0n/mmhuman3d.egg-info/dependency_links.txt\n",
      "    writing requirements to /tmp/pip-pip-egg-info-efq_0q0n/mmhuman3d.egg-info/requires.txt\n",
      "    writing top-level names to /tmp/pip-pip-egg-info-efq_0q0n/mmhuman3d.egg-info/top_level.txt\n",
      "    writing manifest file '/tmp/pip-pip-egg-info-efq_0q0n/mmhuman3d.egg-info/SOURCES.txt'\n",
      "    writing manifest file '/tmp/pip-pip-egg-info-efq_0q0n/mmhuman3d.egg-info/SOURCES.txt'\n",
      "  Source in /home/featurize/work/MMHuman3D教程/pytorch3d/mmhuman3d/mmhuman3d has version 0.9.0, which satisfies requirement mmhuman3d==0.9.0 from file:///home/featurize/work/MMHuman3D%E6%95%99%E7%A8%8B/pytorch3d/mmhuman3d/mmhuman3d\n",
      "  Removed mmhuman3d==0.9.0 from file:///home/featurize/work/MMHuman3D%E6%95%99%E7%A8%8B/pytorch3d/mmhuman3d/mmhuman3d from build tracker '/tmp/pip-req-tracker-0pi54z4q'\n",
      "Requirement already satisfied: astropy in /environment/miniconda3/lib/python3.7/site-packages (from mmhuman3d==0.9.0) (4.3.1)\n",
      "Requirement already satisfied: cdflib<0.4.0 in /environment/miniconda3/lib/python3.7/site-packages (from mmhuman3d==0.9.0) (0.3.20)\n",
      "Requirement already satisfied: chumpy in /environment/miniconda3/lib/python3.7/site-packages (from mmhuman3d==0.9.0) (0.70)\n",
      "Requirement already satisfied: colormap in /environment/miniconda3/lib/python3.7/site-packages (from mmhuman3d==0.9.0) (1.0.4)\n",
      "Requirement already satisfied: easydev in /environment/miniconda3/lib/python3.7/site-packages (from mmhuman3d==0.9.0) (0.12.0)\n",
      "Requirement already satisfied: h5py in /environment/miniconda3/lib/python3.7/site-packages (from mmhuman3d==0.9.0) (3.6.0)\n",
      "Requirement already satisfied: matplotlib in /environment/miniconda3/lib/python3.7/site-packages (from mmhuman3d==0.9.0) (3.5.0)\n",
      "Requirement already satisfied: numpy in /environment/miniconda3/lib/python3.7/site-packages (from mmhuman3d==0.9.0) (1.21.4)\n",
      "Requirement already satisfied: opencv-python in /environment/miniconda3/lib/python3.7/site-packages (from mmhuman3d==0.9.0) (4.5.4.60)\n",
      "Requirement already satisfied: pandas in /environment/miniconda3/lib/python3.7/site-packages (from mmhuman3d==0.9.0) (1.3.4)\n",
      "Requirement already satisfied: pickle5 in /environment/miniconda3/lib/python3.7/site-packages (from mmhuman3d==0.9.0) (0.0.12)\n",
      "Requirement already satisfied: plyfile in /environment/miniconda3/lib/python3.7/site-packages (from mmhuman3d==0.9.0) (0.7.4)\n",
      "Requirement already satisfied: rtree in /environment/miniconda3/lib/python3.7/site-packages (from mmhuman3d==0.9.0) (1.0.0)\n",
      "Requirement already satisfied: scikit-image in /environment/miniconda3/lib/python3.7/site-packages (from mmhuman3d==0.9.0) (0.19.0)\n",
      "Requirement already satisfied: scipy in /environment/miniconda3/lib/python3.7/site-packages (from mmhuman3d==0.9.0) (1.7.3)\n",
      "Requirement already satisfied: smplx in /environment/miniconda3/lib/python3.7/site-packages (from mmhuman3d==0.9.0) (0.1.28)\n",
      "Requirement already satisfied: tqdm in /environment/miniconda3/lib/python3.7/site-packages (from mmhuman3d==0.9.0) (4.61.2)\n",
      "Requirement already satisfied: trimesh in /environment/miniconda3/lib/python3.7/site-packages (from mmhuman3d==0.9.0) (3.12.8)\n",
      "Requirement already satisfied: vedo in /environment/miniconda3/lib/python3.7/site-packages (from mmhuman3d==0.9.0) (2022.2.3)\n",
      "Requirement already satisfied: attrs>=19.2.0 in /environment/miniconda3/lib/python3.7/site-packages (from cdflib<0.4.0->mmhuman3d==0.9.0) (21.2.0)\n",
      "Requirement already satisfied: pyerfa>=1.7.3 in /environment/miniconda3/lib/python3.7/site-packages (from astropy->mmhuman3d==0.9.0) (2.0.0.1)\n",
      "Requirement already satisfied: importlib-metadata in /environment/miniconda3/lib/python3.7/site-packages (from astropy->mmhuman3d==0.9.0) (4.8.2)\n",
      "Requirement already satisfied: six>=1.11.0 in /environment/miniconda3/lib/python3.7/site-packages (from chumpy->mmhuman3d==0.9.0) (1.16.0)\n",
      "Requirement already satisfied: colorama in /environment/miniconda3/lib/python3.7/site-packages (from easydev->mmhuman3d==0.9.0) (0.4.4)\n",
      "Requirement already satisfied: colorlog in /environment/miniconda3/lib/python3.7/site-packages (from easydev->mmhuman3d==0.9.0) (6.6.0)\n",
      "Requirement already satisfied: pexpect in /environment/miniconda3/lib/python3.7/site-packages (from easydev->mmhuman3d==0.9.0) (4.8.0)\n",
      "Requirement already satisfied: cached-property in /environment/miniconda3/lib/python3.7/site-packages (from h5py->mmhuman3d==0.9.0) (1.5.2)\n",
      "Requirement already satisfied: typing-extensions>=3.6.4 in /environment/miniconda3/lib/python3.7/site-packages (from importlib-metadata->astropy->mmhuman3d==0.9.0) (4.0.1)\n",
      "Requirement already satisfied: zipp>=0.5 in /environment/miniconda3/lib/python3.7/site-packages (from importlib-metadata->astropy->mmhuman3d==0.9.0) (3.6.0)\n",
      "Requirement already satisfied: cycler>=0.10 in /environment/miniconda3/lib/python3.7/site-packages (from matplotlib->mmhuman3d==0.9.0) (0.11.0)\n",
      "Requirement already satisfied: kiwisolver>=1.0.1 in /environment/miniconda3/lib/python3.7/site-packages (from matplotlib->mmhuman3d==0.9.0) (1.3.2)\n",
      "Requirement already satisfied: python-dateutil>=2.7 in /environment/miniconda3/lib/python3.7/site-packages (from matplotlib->mmhuman3d==0.9.0) (2.8.2)\n",
      "Requirement already satisfied: fonttools>=4.22.0 in /environment/miniconda3/lib/python3.7/site-packages (from matplotlib->mmhuman3d==0.9.0) (4.28.3)\n",
      "Requirement already satisfied: pillow>=6.2.0 in /environment/miniconda3/lib/python3.7/site-packages (from matplotlib->mmhuman3d==0.9.0) (8.4.0)\n",
      "Requirement already satisfied: setuptools-scm>=4 in /environment/miniconda3/lib/python3.7/site-packages (from matplotlib->mmhuman3d==0.9.0) (6.3.2)\n",
      "Requirement already satisfied: packaging>=20.0 in /environment/miniconda3/lib/python3.7/site-packages (from matplotlib->mmhuman3d==0.9.0) (21.3)\n",
      "Requirement already satisfied: pyparsing>=2.2.1 in /environment/miniconda3/lib/python3.7/site-packages (from matplotlib->mmhuman3d==0.9.0) (3.0.6)\n",
      "Requirement already satisfied: setuptools in /environment/miniconda3/lib/python3.7/site-packages (from setuptools-scm>=4->matplotlib->mmhuman3d==0.9.0) (52.0.0.post20210125)\n",
      "Requirement already satisfied: tomli>=1.0.0 in /environment/miniconda3/lib/python3.7/site-packages (from setuptools-scm>=4->matplotlib->mmhuman3d==0.9.0) (1.2.2)\n",
      "Requirement already satisfied: pytz>=2017.3 in /environment/miniconda3/lib/python3.7/site-packages (from pandas->mmhuman3d==0.9.0) (2021.3)\n",
      "Requirement already satisfied: ptyprocess>=0.5 in /environment/miniconda3/lib/python3.7/site-packages (from pexpect->easydev->mmhuman3d==0.9.0) (0.7.0)\n",
      "Requirement already satisfied: tifffile>=2019.7.26 in /environment/miniconda3/lib/python3.7/site-packages (from scikit-image->mmhuman3d==0.9.0) (2021.11.2)\n",
      "Requirement already satisfied: networkx>=2.2 in /environment/miniconda3/lib/python3.7/site-packages (from scikit-image->mmhuman3d==0.9.0) (2.6.3)\n",
      "Requirement already satisfied: imageio>=2.4.1 in /environment/miniconda3/lib/python3.7/site-packages (from scikit-image->mmhuman3d==0.9.0) (2.13.3)\n",
      "Requirement already satisfied: PyWavelets>=1.1.1 in /environment/miniconda3/lib/python3.7/site-packages (from scikit-image->mmhuman3d==0.9.0) (1.2.0)\n",
      "Requirement already satisfied: torch>=1.0.1.post2 in /environment/miniconda3/lib/python3.7/site-packages (from smplx->mmhuman3d==0.9.0) (1.10.0+cu113)\n",
      "Requirement already satisfied: Deprecated in /environment/miniconda3/lib/python3.7/site-packages (from vedo->mmhuman3d==0.9.0) (1.2.13)\n",
      "Requirement already satisfied: vtk<9.1.0 in /environment/miniconda3/lib/python3.7/site-packages (from vedo->mmhuman3d==0.9.0) (9.0.3)\n",
      "Requirement already satisfied: Twisted>=17.5.0 in /environment/miniconda3/lib/python3.7/site-packages (from vtk<9.1.0->vedo->mmhuman3d==0.9.0) (22.4.0)\n",
      "Requirement already satisfied: autobahn>=17.7.1 in /environment/miniconda3/lib/python3.7/site-packages (from vtk<9.1.0->vedo->mmhuman3d==0.9.0) (22.6.1)\n",
      "Requirement already satisfied: wslink>=0.1.3 in /environment/miniconda3/lib/python3.7/site-packages (from vtk<9.1.0->vedo->mmhuman3d==0.9.0) (1.6.6)\n",
      "Requirement already satisfied: txaio>=21.2.1 in /environment/miniconda3/lib/python3.7/site-packages (from autobahn>=17.7.1->vtk<9.1.0->vedo->mmhuman3d==0.9.0) (22.2.1)\n",
      "Requirement already satisfied: hyperlink>=21.0.0 in /environment/miniconda3/lib/python3.7/site-packages (from autobahn>=17.7.1->vtk<9.1.0->vedo->mmhuman3d==0.9.0) (21.0.0)\n",
      "Requirement already satisfied: cryptography>=3.4.6 in /environment/miniconda3/lib/python3.7/site-packages (from autobahn>=17.7.1->vtk<9.1.0->vedo->mmhuman3d==0.9.0) (3.4.7)\n",
      "Requirement already satisfied: cffi>=1.12 in /environment/miniconda3/lib/python3.7/site-packages (from cryptography>=3.4.6->autobahn>=17.7.1->vtk<9.1.0->vedo->mmhuman3d==0.9.0) (1.14.6)\n",
      "Requirement already satisfied: pycparser in /environment/miniconda3/lib/python3.7/site-packages (from cffi>=1.12->cryptography>=3.4.6->autobahn>=17.7.1->vtk<9.1.0->vedo->mmhuman3d==0.9.0) (2.20)\n",
      "Requirement already satisfied: idna>=2.5 in /environment/miniconda3/lib/python3.7/site-packages (from hyperlink>=21.0.0->autobahn>=17.7.1->vtk<9.1.0->vedo->mmhuman3d==0.9.0) (2.10)\n",
      "Requirement already satisfied: Automat>=0.8.0 in /environment/miniconda3/lib/python3.7/site-packages (from Twisted>=17.5.0->vtk<9.1.0->vedo->mmhuman3d==0.9.0) (20.2.0)\n",
      "Requirement already satisfied: zope.interface>=4.4.2 in /environment/miniconda3/lib/python3.7/site-packages (from Twisted>=17.5.0->vtk<9.1.0->vedo->mmhuman3d==0.9.0) (5.4.0)\n",
      "Requirement already satisfied: incremental>=21.3.0 in /environment/miniconda3/lib/python3.7/site-packages (from Twisted>=17.5.0->vtk<9.1.0->vedo->mmhuman3d==0.9.0) (21.3.0)\n",
      "Requirement already satisfied: constantly>=15.1 in /environment/miniconda3/lib/python3.7/site-packages (from Twisted>=17.5.0->vtk<9.1.0->vedo->mmhuman3d==0.9.0) (15.1.0)\n",
      "Requirement already satisfied: aiohttp<4 in /environment/miniconda3/lib/python3.7/site-packages (from wslink>=0.1.3->vtk<9.1.0->vedo->mmhuman3d==0.9.0) (3.7.4)\n",
      "Requirement already satisfied: multidict<7.0,>=4.5 in /environment/miniconda3/lib/python3.7/site-packages (from aiohttp<4->wslink>=0.1.3->vtk<9.1.0->vedo->mmhuman3d==0.9.0) (5.2.0)\n",
      "Requirement already satisfied: async-timeout<4.0,>=3.0 in /environment/miniconda3/lib/python3.7/site-packages (from aiohttp<4->wslink>=0.1.3->vtk<9.1.0->vedo->mmhuman3d==0.9.0) (3.0.1)\n",
      "Requirement already satisfied: yarl<2.0,>=1.0 in /environment/miniconda3/lib/python3.7/site-packages (from aiohttp<4->wslink>=0.1.3->vtk<9.1.0->vedo->mmhuman3d==0.9.0) (1.7.2)\n",
      "Requirement already satisfied: chardet<4.0,>=2.0 in /environment/miniconda3/lib/python3.7/site-packages (from aiohttp<4->wslink>=0.1.3->vtk<9.1.0->vedo->mmhuman3d==0.9.0) (3.0.4)\n",
      "Requirement already satisfied: wrapt<2,>=1.10 in /environment/miniconda3/lib/python3.7/site-packages (from Deprecated->vedo->mmhuman3d==0.9.0) (1.13.3)\n",
      "Created temporary directory: /tmp/pip-unpack-tbcdbpyb\n",
      "Installing collected packages: mmhuman3d\n",
      "  Attempting uninstall: mmhuman3d\n",
      "    Found existing installation: mmhuman3d 0.9.0\n",
      "    Uninstalling mmhuman3d-0.9.0:\n",
      "      Created temporary directory: /tmp/pip-uninstall-rai2t80u\n",
      "      Removing file or directory /environment/miniconda3/lib/python3.7/site-packages/mmhuman3d.egg-link\n",
      "      Removing pth entries from /environment/miniconda3/lib/python3.7/site-packages/easy-install.pth:\n",
      "      Removing entry: /home/featurize/work/MMHuman3D教程/pytorch3d/mmhuman3d\n",
      "      Successfully uninstalled mmhuman3d-0.9.0\n",
      "  Running setup.py develop for mmhuman3d\n",
      "    Running command /environment/miniconda3/bin/python -c 'import io, os, sys, setuptools, tokenize; sys.argv[0] = '\"'\"'/home/featurize/work/MMHuman3D教程/pytorch3d/mmhuman3d/mmhuman3d/setup.py'\"'\"'; __file__='\"'\"'/home/featurize/work/MMHuman3D教程/pytorch3d/mmhuman3d/mmhuman3d/setup.py'\"'\"';f = getattr(tokenize, '\"'\"'open'\"'\"', open)(__file__) if os.path.exists(__file__) else io.StringIO('\"'\"'from setuptools import setup; setup()'\"'\"');code = f.read().replace('\"'\"'\\r\\n'\"'\"', '\"'\"'\\n'\"'\"');f.close();exec(compile(code, __file__, '\"'\"'exec'\"'\"'))' develop --no-deps\n",
      "    running develop\n",
      "    running egg_info\n",
      "    creating mmhuman3d.egg-info\n",
      "    writing mmhuman3d.egg-info/PKG-INFO\n",
      "    writing dependency_links to mmhuman3d.egg-info/dependency_links.txt\n",
      "    writing requirements to mmhuman3d.egg-info/requires.txt\n",
      "    writing top-level names to mmhuman3d.egg-info/top_level.txt\n",
      "    writing manifest file 'mmhuman3d.egg-info/SOURCES.txt'\n",
      "    writing manifest file 'mmhuman3d.egg-info/SOURCES.txt'\n",
      "    running build_ext\n",
      "    Creating /environment/miniconda3/lib/python3.7/site-packages/mmhuman3d.egg-link (link to .)\n",
      "    Adding mmhuman3d 0.9.0 to easy-install.pth file\n",
      "\n",
      "    Installed /home/featurize/work/MMHuman3D教程/pytorch3d/mmhuman3d/mmhuman3d\n",
      "Successfully installed mmhuman3d-0.9.0\n",
      "Removed build tracker: '/tmp/pip-req-tracker-0pi54z4q'\n"
     ]
    }
   ],
   "source": [
    "!pip install -v -e ."
   ]
  },
  {
   "cell_type": "code",
   "execution_count": 56,
   "id": "9d8b3abb-5b73-4b10-8a8d-b2b948203c83",
   "metadata": {},
   "outputs": [
    {
     "ename": "FileExistsError",
     "evalue": "[Errno 17] File exists: 'outputs'",
     "output_type": "error",
     "traceback": [
      "\u001b[0;31m---------------------------------------------------------------------------\u001b[0m",
      "\u001b[0;31mFileExistsError\u001b[0m                           Traceback (most recent call last)",
      "\u001b[0;32m/tmp/ipykernel_20198/40214988.py\u001b[0m in \u001b[0;36m<module>\u001b[0;34m\u001b[0m\n\u001b[0;32m----> 1\u001b[0;31m \u001b[0mos\u001b[0m\u001b[0;34m.\u001b[0m\u001b[0mmkdir\u001b[0m\u001b[0;34m(\u001b[0m\u001b[0;34m'outputs'\u001b[0m\u001b[0;34m)\u001b[0m\u001b[0;34m\u001b[0m\u001b[0;34m\u001b[0m\u001b[0m\n\u001b[0m",
      "\u001b[0;31mFileExistsError\u001b[0m: [Errno 17] File exists: 'outputs'"
     ]
    }
   ],
   "source": [
    "os.mkdir('outputs')"
   ]
  },
  {
   "cell_type": "markdown",
   "id": "e1cc5dcd-bdb3-40ec-993b-c6a61acb1021",
   "metadata": {},
   "source": [
    "## 验证安装成功"
   ]
  },
  {
   "cell_type": "code",
   "execution_count": 52,
   "id": "04b0825c-fa5c-4b5e-ad5f-9f6d15e7aef0",
   "metadata": {},
   "outputs": [],
   "source": [
    "import mmhuman3d"
   ]
  },
  {
   "cell_type": "code",
   "execution_count": 55,
   "id": "d14dd64f-6515-4122-8cba-f6bcf2b47f45",
   "metadata": {},
   "outputs": [
    {
     "data": {
      "text/plain": [
       "'/home/featurize/work/MMHuman3D教程/mmhuman3d'"
      ]
     },
     "execution_count": 55,
     "metadata": {},
     "output_type": "execute_result"
    }
   ],
   "source": [
    "os.getcwd()"
   ]
  },
  {
   "cell_type": "markdown",
   "id": "a89d6d50-6c6b-41da-be6f-3faf98379fc7",
   "metadata": {},
   "source": [
    "## 三维人体模型"
   ]
  },
  {
   "cell_type": "code",
   "execution_count": 59,
   "id": "aa17b29e-7546-4dbc-b7d1-c5e3647fc71f",
   "metadata": {},
   "outputs": [
    {
     "name": "stdout",
     "output_type": "stream",
     "text": [
      "--2022-07-15 21:10:07--  https://zihao-openmmlab.obs.cn-east-3.myhuaweicloud.com/20220715-mmhuman3d/data.zip\n",
      "Connecting to 172.16.0.13:5848... connected.\n",
      "Proxy request sent, awaiting response... 200 OK\n",
      "Length: 105709443 (101M) [application/zip]\n",
      "Saving to: ‘data.zip’\n",
      "\n",
      "data.zip            100%[===================>] 100.81M  31.6MB/s    in 3.2s    \n",
      "\n",
      "2022-07-15 21:10:11 (31.6 MB/s) - ‘data.zip’ saved [105709443/105709443]\n",
      "\n"
     ]
    }
   ],
   "source": [
    "!wget https://zihao-openmmlab.obs.cn-east-3.myhuaweicloud.com/20220715-mmhuman3d/data.zip -O data.zip"
   ]
  },
  {
   "cell_type": "code",
   "execution_count": 60,
   "id": "91fe91f8-b0d4-4f6a-a23a-48cdeab89c35",
   "metadata": {},
   "outputs": [
    {
     "name": "stdout",
     "output_type": "stream",
     "text": [
      "Archive:  data.zip\n",
      "   creating: data/\n",
      "   creating: data/body_models/\n",
      "  inflating: data/.DS_Store          \n",
      "  inflating: __MACOSX/data/._.DS_Store  \n",
      "  inflating: data/body_models/smpl_mean_params.npz  \n",
      "  inflating: __MACOSX/data/body_models/._smpl_mean_params.npz  \n",
      "  inflating: data/body_models/.DS_Store  \n",
      "  inflating: __MACOSX/data/body_models/._.DS_Store  \n",
      "  inflating: data/body_models/J_regressor_extra.npy  \n",
      "  inflating: __MACOSX/data/body_models/._J_regressor_extra.npy  \n",
      "   creating: data/body_models/smpl/\n",
      "  inflating: data/body_models/J_regressor_h36m.npy  \n",
      "  inflating: __MACOSX/data/body_models/._J_regressor_h36m.npy  \n",
      "  inflating: data/body_models/smpl/SMPL_MALE.pkl  \n",
      "  inflating: __MACOSX/data/body_models/smpl/._SMPL_MALE.pkl  \n",
      "  inflating: data/body_models/smpl/SMPL_FEMALE.pkl  \n",
      "  inflating: __MACOSX/data/body_models/smpl/._SMPL_FEMALE.pkl  \n",
      "  inflating: data/body_models/smpl/SMPL_NEUTRAL.pkl  \n",
      "  inflating: __MACOSX/data/body_models/smpl/._SMPL_NEUTRAL.pkl  \n"
     ]
    }
   ],
   "source": [
    "!unzip data.zip"
   ]
  },
  {
   "cell_type": "code",
   "execution_count": null,
   "id": "688ebd70-3fc0-4277-b7d9-782f521c6915",
   "metadata": {},
   "outputs": [],
   "source": []
  }
 ],
 "metadata": {
  "kernelspec": {
   "display_name": "Python 3 (ipykernel)",
   "language": "python",
   "name": "python3"
  },
  "language_info": {
   "codemirror_mode": {
    "name": "ipython",
    "version": 3
   },
   "file_extension": ".py",
   "mimetype": "text/x-python",
   "name": "python",
   "nbconvert_exporter": "python",
   "pygments_lexer": "ipython3",
   "version": "3.7.10"
  }
 },
 "nbformat": 4,
 "nbformat_minor": 5
}
